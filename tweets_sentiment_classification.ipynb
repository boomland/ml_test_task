{
  "nbformat": 4,
  "nbformat_minor": 0,
  "metadata": {
    "colab": {
      "provenance": []
    },
    "kernelspec": {
      "name": "python3",
      "display_name": "Python 3"
    },
    "language_info": {
      "name": "python"
    }
  },
  "cells": [
    {
      "cell_type": "markdown",
      "source": [
        "### Ответы на вопросы"
      ],
      "metadata": {
        "id": "_I3yIuod3DXK"
      }
    },
    {
      "cell_type": "markdown",
      "source": [
        "Данных очень мало, поэтому сложные модели хорошо не обучить. Поэтому в качестве классификаторов будем пробовать различные модели классификации, которые могут быть эффективными на небольшом объеме обучающих данных: logreg, svm, k-neighb clf. Как будем препроцессить данные? Есть два подхода, чистить наши данные и нормализовать их, а потом пропускать через трансформер, например bow или tf-idf. Или же можно пропустить их через модели которые на выходе выдают векторные представления слов (word2vec, fasttext, glove) и потом нехитрыми операциями свести эти эмбеддинги к эмбеддингу предложения. Есть и другой подход, брать сырые данные и пропускать через предобученный трансформер и тоже получать эмбеддинги предложений.\n",
        "\n",
        "Я провел эксперименты с моделями обучающимися на TF-IDF и FastText эмбеддингах предложений.\n",
        "\n",
        "Очистка данных (все то что неинформативно в контексте сентимента текста):\n",
        "1.   удаление ссылок\n",
        "2.   удаление тегов @name\n",
        "3.   удаление метки ретвитов: \"RT\"\n",
        "4.   удаление пунктуации\n",
        "5.   удаление цифр\n",
        "6.   удаление символов\n",
        "\n",
        "Нормализация данных (опциональная):\n",
        "1.   Лемматизация/Стемминг\n",
        "2.   Удаление стоп слов\n",
        "\n",
        "Сразу отмечу, что в чистке данных мы и удаляли текстовые смайлы (^_^, :( , =) и тд), которые закладывают в себе позитивную или негативную окраску текста. Это было сделано потому, что основываясь только на смайлах (грустные или веселые) можно сделать почти идеальный классификатор! Это может негативно повлиять на обучение и дать сильное смещение на них. То есть мы можем получить хорошее качество на этих данных, но когда придут новые, наша модель возможно не покажет такие успешные результаты (например на входе будет просто текст, без смайликов, либо негативный текст с кучей ироничных позитивных смайликов). Мы хотим получить модель с хорошей обобщающей способностью, поэтому нам необходим такой препроцессинг.\n",
        "\n",
        "Далее я написал пайплайн, обучения моделей на кроссвалидации (изначально стратифицировано делим трейн-тест 80 на 20) и выбираем лучшую модель. В качестве метрики берем accuracy (данные сбалансированы по классам), у итоговой модели еще смотрим на roc-auc (для оценки семейства алгоритмов по порогам. данные балансные поэтому можно использовать roc-auc)."
      ],
      "metadata": {
        "id": "DYmYyY-d3LXh"
      }
    },
    {
      "cell_type": "markdown",
      "source": [
        "В контексте данной задачи классификации основная проблема в данных. Они не очень качественные, и малый размер выборки. Рассмотрим ситуацию, когда у нас есть хорошо размеченный большой датасет. Теперь мы можем пообучать на них более сложные модели. Я бы попробовал Biderectional-LSTM/GRU/BERT. С упором на последний. У таких моделей будет существенно более глубокое понимание семантического контекста предложения. Плюс можно попробовать различные техники аугментации, чтобы получить еще более разношерстный датасет: перестановка слов в предложении, синонимизация (замена слов на синонимы), добавление шума (случайная замена символов в небольшом количестве, добавление/удаление текстовых эмоджи, добавление/удаление пунктуации, замена регистра слов или первых букв и тд)."
      ],
      "metadata": {
        "id": "6ltPzN3q3Ih_"
      }
    },
    {
      "cell_type": "markdown",
      "source": [
        "### Анализ данных и моделирование"
      ],
      "metadata": {
        "id": "GXAHordS3VFZ"
      }
    },
    {
      "cell_type": "code",
      "source": [
        "%pip install pymorphy2\n",
        "%pip install fasttext"
      ],
      "metadata": {
        "id": "1xIKr8BU3Cil"
      },
      "execution_count": null,
      "outputs": []
    },
    {
      "cell_type": "code",
      "source": [
        "import pandas as pd\n",
        "import seaborn as sns\n",
        "import matplotlib.pyplot as plt\n",
        "import numpy as np\n",
        "from typing import List\n",
        "import string\n",
        "import re\n",
        "\n",
        "import nltk\n",
        "from nltk.corpus import stopwords\n",
        "from nltk.tokenize import word_tokenize\n",
        "\n",
        "import pymorphy2\n",
        "import fasttext\n",
        "from huggingface_hub import hf_hub_download\n",
        "\n",
        "from sklearn.model_selection import train_test_split\n",
        "from sklearn.feature_extraction.text import TfidfVectorizer\n",
        "from sklearn.linear_model import LogisticRegression\n",
        "from sklearn.svm import SVC\n",
        "from sklearn.neighbors import KNeighborsClassifier\n",
        "from sklearn.pipeline import Pipeline\n",
        "from sklearn.model_selection import GridSearchCV\n",
        "from sklearn.base import BaseEstimator, TransformerMixin\n",
        "from sklearn.metrics import roc_auc_score\n",
        "from sklearn.metrics import accuracy_score\n",
        "import sklearn.metrics as metrics\n",
        "\n",
        "nltk.download('stopwords')\n",
        "nltk.download('punkt')\n",
        "\n",
        "FASTTEXT_MODEL = fasttext.load_model(hf_hub_download('facebook/fasttext-ru-vectors', 'model.bin'))\n",
        "MORPH_ANALYZER = pymorphy2.MorphAnalyzer()\n",
        "RU_STOP_WORDS = set(stopwords.words('russian'))\n",
        "\n",
        "sns.set_theme()\n",
        "%matplotlib inline"
      ],
      "metadata": {
        "id": "CtvrKT2XP-LA"
      },
      "execution_count": null,
      "outputs": []
    },
    {
      "cell_type": "code",
      "source": [
        "df = pd.read_csv('tweets.csv')"
      ],
      "metadata": {
        "id": "-XCeXZXhYvWo"
      },
      "execution_count": 67,
      "outputs": []
    },
    {
      "cell_type": "code",
      "source": [
        "print(f'Number of tweets: {len(df)}')"
      ],
      "metadata": {
        "colab": {
          "base_uri": "https://localhost:8080/"
        },
        "id": "skguVXTZZ-DO",
        "outputId": "2da9297d-01f4-4e01-8646-2e8eb711fdbf"
      },
      "execution_count": 68,
      "outputs": [
        {
          "output_type": "stream",
          "name": "stdout",
          "text": [
            "Number of tweets: 1000\n"
          ]
        }
      ]
    },
    {
      "cell_type": "code",
      "source": [
        "sns.histplot(data=df, x=\"sentiment\")\n",
        "plt.show()"
      ],
      "metadata": {
        "colab": {
          "base_uri": "https://localhost:8080/",
          "height": 458
        },
        "id": "W9P4ZiauYyVS",
        "outputId": "835927d1-64df-49a4-b2e0-2441406e3fd9"
      },
      "execution_count": 69,
      "outputs": [
        {
          "output_type": "display_data",
          "data": {
            "text/plain": [
              "<Figure size 640x480 with 1 Axes>"
            ],
            "image/png": "[encoded data removed]"
          },
          "metadata": {}
        }
      ]
    },
    {
      "cell_type": "code",
      "source": [
        "def show_random_items(df: pd.DataFrame, k: int = 1) -> None:\n",
        "    item = df.sample(k)\n",
        "\n",
        "    for i in range(k):\n",
        "        print(item.iloc[i]['sentiment'])\n",
        "        print(item.iloc[i]['text'])\n",
        "        print()\n",
        "\n",
        "show_random_items(df, 10)"
      ],
      "metadata": {
        "id": "TXEhRPmVY4P9",
        "colab": {
          "base_uri": "https://localhost:8080/"
        },
        "outputId": "c833be75-ce93-4ba9-fe7f-e88459ff5e82"
      },
      "execution_count": 70,
      "outputs": [
        {
          "output_type": "stream",
          "name": "stdout",
          "text": [
            "positive\n",
            "@Mary__Zzz дерьмо случается, видимо не судьба тебе на тгп попасть)\n",
            "\n",
            "positive\n",
            "В общем, надеюсь,котейка будет жить и расти и через месяц,если все будет хорошо, я еще раз спрошу желающих)\n",
            "\n",
            "positive\n",
            "RT @YanaMandrakova: Час прогулки с моей Ол, красные носы, морозные щечки и хорошее настроение!) все в лучших традициях зимушки зимы!))) htt…\n",
            "\n",
            "positive\n",
            "Или как у крайон поп\n",
            "Гееет, сееееет, редииии, ГОУ :D\n",
            "\n",
            "negative\n",
            "Как же хочу научиться играть на синтезаторе :(\n",
            "\n",
            "negative\n",
            "@_momsen_ как мне все это знакомо! тупо кроме учебы перестало все волновать! почему так?(\n",
            "\n",
            "negative\n",
            "Праздник не задается;( Сначала упал потолок, теперь стекло разбили;(\n",
            "\n",
            "negative\n",
            "@Photo_Nikita @sd0107 @pastya_nastya жестокий мир (\n",
            "\n",
            "positive\n",
            "Сегодня и вчера самые лучшие дни! Но не только из-за др...кто знает тот поймёт))))))\n",
            "\n",
            "negative\n",
            "Учишься ли ты на своих ошибках? — К сожалению не всегда( http://t.co/leVlpGjzs2\n",
            "\n"
          ]
        }
      ]
    },
    {
      "cell_type": "code",
      "source": [
        "df['target'] = (df.sentiment == 'positive').astype(int)"
      ],
      "metadata": {
        "id": "VJ1F52lN1K5d"
      },
      "execution_count": 71,
      "outputs": []
    },
    {
      "cell_type": "markdown",
      "source": [
        "### Почти идеальный классификатор"
      ],
      "metadata": {
        "id": "gCX0GoBw3iaX"
      }
    },
    {
      "cell_type": "code",
      "source": [
        "def dummy_classifier(s: str) -> int:\n",
        "    if (':D' in s) or ('^_^' in s) or (':*' in s) or (':-D' in s) or (')' in s):\n",
        "        return 1\n",
        "    else:\n",
        "        return 0"
      ],
      "metadata": {
        "id": "O10FTi-20b9C"
      },
      "execution_count": 73,
      "outputs": []
    },
    {
      "cell_type": "code",
      "source": [
        "dummy_pred = df.text.apply(dummy_classifier)\n",
        "wrong_pred_texts = df[dummy_pred != df.target]\n",
        "print(f'Неправильно предсказано: {len(wrong_pred_texts)} текст')\n",
        "\n",
        "show_random_items(wrong_pred_texts, len(wrong_pred_texts))"
      ],
      "metadata": {
        "colab": {
          "base_uri": "https://localhost:8080/"
        },
        "id": "4SorpqgL1XIQ",
        "outputId": "3d88d786-9180-40cf-d246-3ea76a91afdc"
      },
      "execution_count": 79,
      "outputs": [
        {
          "output_type": "stream",
          "name": "stdout",
          "text": [
            "Неправильно предсказано: 1 текст\n",
            "negative\n",
            "@H1mkinet а у кого-то завтра работа :-D :-( поверь,я лучше бы поиграл бы :-D\n",
            "\n"
          ]
        }
      ]
    },
    {
      "cell_type": "markdown",
      "source": [
        "Тут accuracy = 0.999, хотя классификатор вообще не смотрим на текст, это как раз то о чем я писал выше."
      ],
      "metadata": {
        "id": "3mnoKNla4W54"
      }
    },
    {
      "cell_type": "code",
      "source": [
        "class ClfSwitcher(BaseEstimator):\n",
        "    def __init__(self, estimator=None):\n",
        "        self.estimator = estimator\n",
        "\n",
        "    def fit(self, X, y=None, **kwargs):\n",
        "        self.estimator.fit(X, y)\n",
        "        return self\n",
        "\n",
        "    def predict(self, X, y=None):\n",
        "        return self.estimator.predict(X)\n",
        "\n",
        "    def predict_proba(self, X):\n",
        "        return self.estimator.predict_proba(X)\n",
        "\n",
        "    def score(self, X, y):\n",
        "        return self.estimator.score(X, y)\n",
        "\n",
        "class TransformerSwitcher(TransformerMixin, BaseEstimator):\n",
        "    def __init__(self, transformer=None):\n",
        "        self.transformer = transformer\n",
        "\n",
        "    def fit(self, X, y=None):\n",
        "        return self.transformer.fit(X)\n",
        "\n",
        "    def transform(self, X):\n",
        "        return self.transformer.transform(X)"
      ],
      "metadata": {
        "id": "R_2Drts24mpu"
      },
      "execution_count": null,
      "outputs": []
    },
    {
      "cell_type": "code",
      "source": [
        "class TextPreprocessingTransformer(BaseEstimator, TransformerMixin):\n",
        "    def __init__(self, remove_stop_words: bool = False, lemmatize: bool = False):\n",
        "        self.lemmatize = lemmatize\n",
        "        self.remove_stop_words = remove_stop_words\n",
        "\n",
        "    def __clean_text(self, s: str) -> str:\n",
        "        s = re.sub(r\"http\\S+\", \"\", s)\n",
        "        s = re.sub(r'[\\S]+\\.(net|com|org|info|edu|gov|uk|de|ca|jp|fr|au|us|ru|ch|it|nel|se|no|es|mil|me|ua|io|kz|by)[\\S]*\\s?','', s) # remove links\n",
        "        s = re.sub(r\"RT @\\S+\", \"\", s) # remove construnction \"RT @name:\"\n",
        "        s = re.sub(r\"@\\S+\", \"\", s) # remove construction \"@name\"\n",
        "        s = s.translate(str.maketrans('', '', string.punctuation)) # remove punctuation\n",
        "        s = re.sub(\"\\d\", ' ', s) # remove digits\n",
        "        s = re.sub(r'[a-zA-Z]', ' ', s) # remove all english symbols\n",
        "        s = ' '.join(s.split())\n",
        "        s = s.lower()\n",
        "        return s\n",
        "\n",
        "    def __prepare_text(self, s: str) -> str:\n",
        "        s = self.__clean_text(s)\n",
        "        tokens = word_tokenize(s)\n",
        "        if self.remove_stop_words:\n",
        "            tokens = [word for word in tokens if word not in RU_STOP_WORDS] # remove stop words\n",
        "\n",
        "        if self.lemmatize:\n",
        "            tokens = [MORPH_ANALYZER.parse(word)[0].normal_form for word in tokens] # lemmatize text\n",
        "\n",
        "        s = ' '.join(s.split())\n",
        "        return s\n",
        "\n",
        "    def fit(self, X: List[str], y: List[int] = None):\n",
        "        return self\n",
        "\n",
        "    def transform(self, X: List[str]) -> List[str]:\n",
        "        return [self.__prepare_text(text) for text in X]\n",
        "\n",
        "class FastTextTransformer(BaseEstimator, TransformerMixin):\n",
        "    def fit(self, X: List[str], y: List[int] = None):\n",
        "        return self\n",
        "\n",
        "    def transform(self, X: List[str]) -> List[str]:\n",
        "        return [FASTTEXT_MODEL.get_sentence_vector(text) for text in X] # get sentence embeddings"
      ],
      "metadata": {
        "id": "168jXvqePaWc"
      },
      "execution_count": 57,
      "outputs": []
    },
    {
      "cell_type": "code",
      "source": [
        "# разбивание выборку на тест и трейн (800-200) примеров,\n",
        "X_train, X_test, y_train, y_test = train_test_split(df.text,\n",
        "                                                    df.target,\n",
        "                                                    stratify=df.target,\n",
        "                                                    test_size=0.2,\n",
        "                                                    random_state=42)"
      ],
      "metadata": {
        "id": "61Gd_Y9SYgcr"
      },
      "execution_count": 58,
      "outputs": []
    },
    {
      "cell_type": "code",
      "source": [
        "# Подбираем лучшую модель и метод получения эмбеддингов текста различными способами\n",
        "# Используем кросс-валидацию, на 4 бинах\n",
        "\n",
        "pipeline = Pipeline([\n",
        "    ('text_prep', TextPreprocessingTransformer()),\n",
        "    ('text_vect', TransformerSwitcher()),\n",
        "    ('clf', ClfSwitcher())\n",
        "])\n",
        "\n",
        "parameters = [\n",
        "    {\n",
        "        'clf__estimator': [LogisticRegression(random_state=42)],\n",
        "        'clf__estimator__penalty': ['l2', 'l1'],\n",
        "        'clf__estimator__solver': ['liblinear'],\n",
        "        'clf__estimator__C': np.logspace(-3, 3, num = 6),\n",
        "        'text_vect__transformer': [TfidfVectorizer(ngram_range=(1,1)), TfidfVectorizer(ngram_range=(1,2)), FastTextTransformer()],\n",
        "        'text_prep__remove_stop_words': [False, True],\n",
        "        'text_prep__lemmatize': [False, True]\n",
        "\n",
        "    },\n",
        "    {\n",
        "        'clf__estimator': [SVC(random_state=42)],\n",
        "        'clf__estimator__C': np.logspace(-3, 3, num = 6),\n",
        "        'clf__estimator__kernel': ['linear', 'poly', 'rbf'],\n",
        "        'clf__estimator__degree': [3, 5, 7],\n",
        "        'text_vect__transformer': [TfidfVectorizer(ngram_range=(1,1)), TfidfVectorizer(ngram_range=(1,2)), FastTextTransformer()],\n",
        "        'text_prep__remove_stop_words': [False, True],\n",
        "        'text_prep__lemmatize': [False, True]\n",
        "    },\n",
        "    {\n",
        "        'clf__estimator': [KNeighborsClassifier()],\n",
        "        'clf__estimator__n_neighbors': [1, 3, 5, 7],\n",
        "        'text_vect__transformer': [TfidfVectorizer(ngram_range=(1,1)), TfidfVectorizer(ngram_range=(1,2)), FastTextTransformer()],\n",
        "        'text_prep__remove_stop_words': [False, True],\n",
        "        'text_prep__lemmatize': [False, True]\n",
        "    }\n",
        "]\n",
        "\n",
        "cv_grid = GridSearchCV(pipeline, param_grid=parameters, cv=4, verbose=10, scoring='accuracy', refit=True, error_score=\"raise\")\n",
        "cv_grid.fit(X_train, y_train)"
      ],
      "metadata": {
        "collapsed": true,
        "id": "OhBbCZ3A8wJy"
      },
      "execution_count": null,
      "outputs": []
    },
    {
      "cell_type": "code",
      "source": [
        "best_estimator = cv_grid.best_estimator_\n",
        "best_estimator"
      ],
      "metadata": {
        "colab": {
          "base_uri": "https://localhost:8080/",
          "height": 442
        },
        "id": "izaFKNW9mWjL",
        "outputId": "2225570e-14aa-4503-9410-0b271aa14fe7"
      },
      "execution_count": 86,
      "outputs": [
        {
          "output_type": "execute_result",
          "data": {
            "text/plain": [
              "Pipeline(steps=[('text_prep',\n",
              "                 TextPreprocessingTransformer(lemmatize=False,\n",
              "                                              remove_stop_words=False)),\n",
              "                ('text_vect',\n",
              "                 TransformerSwitcher(transformer=FastTextTransformer())),\n",
              "                ('clf',\n",
              "                 ClfSwitcher(estimator=LogisticRegression(C=3.981071705534969,\n",
              "                                                          penalty='l1',\n",
              "                                                          random_state=42,\n",
              "                                                          solver='liblinear')))])"
            ],
            "text/html": [
              "<style>#sk-container-id-15 {color: black;}#sk-container-id-15 pre{padding: 0;}#sk-container-id-15 div.sk-toggleable {background-color: white;}#sk-container-id-15 label.sk-toggleable__label {cursor: pointer;display: block;width: 100%;margin-bottom: 0;padding: 0.3em;box-sizing: border-box;text-align: center;}#sk-container-id-15 label.sk-toggleable__label-arrow:before {content: \"▸\";float: left;margin-right: 0.25em;color: #696969;}#sk-container-id-15 label.sk-toggleable__label-arrow:hover:before {color: black;}#sk-container-id-15 div.sk-estimator:hover label.sk-toggleable__label-arrow:before {color: black;}#sk-container-id-15 div.sk-toggleable__content {max-height: 0;max-width: 0;overflow: hidden;text-align: left;background-color: #f0f8ff;}#sk-container-id-15 div.sk-toggleable__content pre {margin: 0.2em;color: black;border-radius: 0.25em;background-color: #f0f8ff;}#sk-container-id-15 input.sk-toggleable__control:checked~div.sk-toggleable__content {max-height: 200px;max-width: 100%;overflow: auto;}#sk-container-id-15 input.sk-toggleable__control:checked~label.sk-toggleable__label-arrow:before {content: \"▾\";}#sk-container-id-15 div.sk-estimator input.sk-toggleable__control:checked~label.sk-toggleable__label {background-color: #d4ebff;}#sk-container-id-15 div.sk-label input.sk-toggleable__control:checked~label.sk-toggleable__label {background-color: #d4ebff;}#sk-container-id-15 input.sk-hidden--visually {border: 0;clip: rect(1px 1px 1px 1px);clip: rect(1px, 1px, 1px, 1px);height: 1px;margin: -1px;overflow: hidden;padding: 0;position: absolute;width: 1px;}#sk-container-id-15 div.sk-estimator {font-family: monospace;background-color: #f0f8ff;border: 1px dotted black;border-radius: 0.25em;box-sizing: border-box;margin-bottom: 0.5em;}#sk-container-id-15 div.sk-estimator:hover {background-color: #d4ebff;}#sk-container-id-15 div.sk-parallel-item::after {content: \"\";width: 100%;border-bottom: 1px solid gray;flex-grow: 1;}#sk-container-id-15 div.sk-label:hover label.sk-toggleable__label {background-color: #d4ebff;}#sk-container-id-15 div.sk-serial::before {content: \"\";position: absolute;border-left: 1px solid gray;box-sizing: border-box;top: 0;bottom: 0;left: 50%;z-index: 0;}#sk-container-id-15 div.sk-serial {display: flex;flex-direction: column;align-items: center;background-color: white;padding-right: 0.2em;padding-left: 0.2em;position: relative;}#sk-container-id-15 div.sk-item {position: relative;z-index: 1;}#sk-container-id-15 div.sk-parallel {display: flex;align-items: stretch;justify-content: center;background-color: white;position: relative;}#sk-container-id-15 div.sk-item::before, #sk-container-id-15 div.sk-parallel-item::before {content: \"\";position: absolute;border-left: 1px solid gray;box-sizing: border-box;top: 0;bottom: 0;left: 50%;z-index: -1;}#sk-container-id-15 div.sk-parallel-item {display: flex;flex-direction: column;z-index: 1;position: relative;background-color: white;}#sk-container-id-15 div.sk-parallel-item:first-child::after {align-self: flex-end;width: 50%;}#sk-container-id-15 div.sk-parallel-item:last-child::after {align-self: flex-start;width: 50%;}#sk-container-id-15 div.sk-parallel-item:only-child::after {width: 0;}#sk-container-id-15 div.sk-dashed-wrapped {border: 1px dashed gray;margin: 0 0.4em 0.5em 0.4em;box-sizing: border-box;padding-bottom: 0.4em;background-color: white;}#sk-container-id-15 div.sk-label label {font-family: monospace;font-weight: bold;display: inline-block;line-height: 1.2em;}#sk-container-id-15 div.sk-label-container {text-align: center;}#sk-container-id-15 div.sk-container {/* jupyter's `normalize.less` sets `[hidden] { display: none; }` but bootstrap.min.css set `[hidden] { display: none !important; }` so we also need the `!important` here to be able to override the default hidden behavior on the sphinx rendered scikit-learn.org. See: https://github.com/scikit-learn/scikit-learn/issues/21755 */display: inline-block !important;position: relative;}#sk-container-id-15 div.sk-text-repr-fallback {display: none;}</style><div id=\"sk-container-id-15\" class=\"sk-top-container\"><div class=\"sk-text-repr-fallback\"><pre>Pipeline(steps=[(&#x27;text_prep&#x27;,\n",
              "                 TextPreprocessingTransformer(lemmatize=False,\n",
              "                                              remove_stop_words=False)),\n",
              "                (&#x27;text_vect&#x27;,\n",
              "                 TransformerSwitcher(transformer=FastTextTransformer())),\n",
              "                (&#x27;clf&#x27;,\n",
              "                 ClfSwitcher(estimator=LogisticRegression(C=3.981071705534969,\n",
              "                                                          penalty=&#x27;l1&#x27;,\n",
              "                                                          random_state=42,\n",
              "                                                          solver=&#x27;liblinear&#x27;)))])</pre><b>In a Jupyter environment, please rerun this cell to show the HTML representation or trust the notebook. <br />On GitHub, the HTML representation is unable to render, please try loading this page with nbviewer.org.</b></div><div class=\"sk-container\" hidden><div class=\"sk-item sk-dashed-wrapped\"><div class=\"sk-label-container\"><div class=\"sk-label sk-toggleable\"><input class=\"sk-toggleable__control sk-hidden--visually\" id=\"sk-estimator-id-93\" type=\"checkbox\" ><label for=\"sk-estimator-id-93\" class=\"sk-toggleable__label sk-toggleable__label-arrow\">Pipeline</label><div class=\"sk-toggleable__content\"><pre>Pipeline(steps=[(&#x27;text_prep&#x27;,\n",
              "                 TextPreprocessingTransformer(lemmatize=False,\n",
              "                                              remove_stop_words=False)),\n",
              "                (&#x27;text_vect&#x27;,\n",
              "                 TransformerSwitcher(transformer=FastTextTransformer())),\n",
              "                (&#x27;clf&#x27;,\n",
              "                 ClfSwitcher(estimator=LogisticRegression(C=3.981071705534969,\n",
              "                                                          penalty=&#x27;l1&#x27;,\n",
              "                                                          random_state=42,\n",
              "                                                          solver=&#x27;liblinear&#x27;)))])</pre></div></div></div><div class=\"sk-serial\"><div class=\"sk-item\"><div class=\"sk-estimator sk-toggleable\"><input class=\"sk-toggleable__control sk-hidden--visually\" id=\"sk-estimator-id-94\" type=\"checkbox\" ><label for=\"sk-estimator-id-94\" class=\"sk-toggleable__label sk-toggleable__label-arrow\">TextPreprocessingTransformer</label><div class=\"sk-toggleable__content\"><pre>TextPreprocessingTransformer(lemmatize=False, remove_stop_words=False)</pre></div></div></div><div class=\"sk-item sk-dashed-wrapped\"><div class=\"sk-label-container\"><div class=\"sk-label sk-toggleable\"><input class=\"sk-toggleable__control sk-hidden--visually\" id=\"sk-estimator-id-95\" type=\"checkbox\" ><label for=\"sk-estimator-id-95\" class=\"sk-toggleable__label sk-toggleable__label-arrow\">text_vect: TransformerSwitcher</label><div class=\"sk-toggleable__content\"><pre>TransformerSwitcher(transformer=FastTextTransformer())</pre></div></div></div><div class=\"sk-parallel\"><div class=\"sk-parallel-item\"><div class=\"sk-item\"><div class=\"sk-label-container\"><div class=\"sk-label sk-toggleable\"><input class=\"sk-toggleable__control sk-hidden--visually\" id=\"sk-estimator-id-96\" type=\"checkbox\" ><label for=\"sk-estimator-id-96\" class=\"sk-toggleable__label sk-toggleable__label-arrow\">transformer: FastTextTransformer</label><div class=\"sk-toggleable__content\"><pre>FastTextTransformer()</pre></div></div></div><div class=\"sk-serial\"><div class=\"sk-item\"><div class=\"sk-estimator sk-toggleable\"><input class=\"sk-toggleable__control sk-hidden--visually\" id=\"sk-estimator-id-97\" type=\"checkbox\" ><label for=\"sk-estimator-id-97\" class=\"sk-toggleable__label sk-toggleable__label-arrow\">FastTextTransformer</label><div class=\"sk-toggleable__content\"><pre>FastTextTransformer()</pre></div></div></div></div></div></div></div></div><div class=\"sk-item sk-dashed-wrapped\"><div class=\"sk-label-container\"><div class=\"sk-label sk-toggleable\"><input class=\"sk-toggleable__control sk-hidden--visually\" id=\"sk-estimator-id-98\" type=\"checkbox\" ><label for=\"sk-estimator-id-98\" class=\"sk-toggleable__label sk-toggleable__label-arrow\">clf: ClfSwitcher</label><div class=\"sk-toggleable__content\"><pre>ClfSwitcher(estimator=LogisticRegression(C=3.981071705534969, penalty=&#x27;l1&#x27;,\n",
              "                                         random_state=42, solver=&#x27;liblinear&#x27;))</pre></div></div></div><div class=\"sk-parallel\"><div class=\"sk-parallel-item\"><div class=\"sk-item\"><div class=\"sk-label-container\"><div class=\"sk-label sk-toggleable\"><input class=\"sk-toggleable__control sk-hidden--visually\" id=\"sk-estimator-id-99\" type=\"checkbox\" ><label for=\"sk-estimator-id-99\" class=\"sk-toggleable__label sk-toggleable__label-arrow\">estimator: LogisticRegression</label><div class=\"sk-toggleable__content\"><pre>LogisticRegression(C=3.981071705534969, penalty=&#x27;l1&#x27;, random_state=42,\n",
              "                   solver=&#x27;liblinear&#x27;)</pre></div></div></div><div class=\"sk-serial\"><div class=\"sk-item\"><div class=\"sk-estimator sk-toggleable\"><input class=\"sk-toggleable__control sk-hidden--visually\" id=\"sk-estimator-id-100\" type=\"checkbox\" ><label for=\"sk-estimator-id-100\" class=\"sk-toggleable__label sk-toggleable__label-arrow\">LogisticRegression</label><div class=\"sk-toggleable__content\"><pre>LogisticRegression(C=3.981071705534969, penalty=&#x27;l1&#x27;, random_state=42,\n",
              "                   solver=&#x27;liblinear&#x27;)</pre></div></div></div></div></div></div></div></div></div></div></div></div>"
            ]
          },
          "metadata": {},
          "execution_count": 86
        }
      ]
    },
    {
      "cell_type": "code",
      "source": [
        "print(f'Best parametres: {cv_grid.best_params_}')"
      ],
      "metadata": {
        "colab": {
          "base_uri": "https://localhost:8080/"
        },
        "id": "vO4Nqr6v6cz2",
        "outputId": "aec2ec70-4dea-4abf-d0ea-850395a8b90b"
      },
      "execution_count": 84,
      "outputs": [
        {
          "output_type": "stream",
          "name": "stdout",
          "text": [
            "Best parametres: {'clf__estimator': LogisticRegression(random_state=42), 'clf__estimator__C': 3.981071705534969, 'clf__estimator__penalty': 'l1', 'clf__estimator__solver': 'liblinear', 'text_prep__lemmatize': False, 'text_prep__remove_stop_words': False, 'text_vect__transformer': FastTextTransformer()}\n"
          ]
        }
      ]
    },
    {
      "cell_type": "code",
      "source": [
        "print(f'Mean cross-validated accuracy score of the best_estimator: {cv_grid.best_score_:.3f}')"
      ],
      "metadata": {
        "colab": {
          "base_uri": "https://localhost:8080/"
        },
        "id": "HCjpEACGxNnA",
        "outputId": "3ef5c3e1-866d-4587-e653-ab87044b03f0"
      },
      "execution_count": 88,
      "outputs": [
        {
          "output_type": "stream",
          "name": "stdout",
          "text": [
            "Mean cross-validated accuracy score of the best_estimator: 0.641\n"
          ]
        }
      ]
    },
    {
      "cell_type": "markdown",
      "source": [
        "Как можно видеть, лучшая модель **на этих данных** - это Логистическая регрессия с L1 регуляризацией, обученная на текстах (без лематизации и удаления стоп слов) пропущенных через fasttext.\n"
      ],
      "metadata": {
        "id": "6BWPLXw27Tmh"
      }
    },
    {
      "cell_type": "code",
      "source": [
        "pred_test = best_estimator.predict(X_test)\n",
        "pred_prob_test = best_estimator.predict_proba(X_test)"
      ],
      "metadata": {
        "id": "chH2saMY8DXp"
      },
      "execution_count": 90,
      "outputs": []
    },
    {
      "cell_type": "code",
      "source": [
        "acc = accuracy_score(y_test, pred_test)\n",
        "print(f'Best estimator test accuracy: {acc:.3f}')"
      ],
      "metadata": {
        "colab": {
          "base_uri": "https://localhost:8080/"
        },
        "id": "M7lwPv7G8nPv",
        "outputId": "3f4d6088-b60e-4776-e825-fdf6201d6b3c"
      },
      "execution_count": 96,
      "outputs": [
        {
          "output_type": "stream",
          "name": "stdout",
          "text": [
            "Best estimator test accuracy: 0.610\n"
          ]
        }
      ]
    },
    {
      "cell_type": "code",
      "source": [
        "def plot_roc_curve(probs: List[float], targets: List[int]) -> None:\n",
        "    preds = probs[:,1]\n",
        "    fpr, tpr, threshold = metrics.roc_curve(y_test, preds)\n",
        "    roc_auc = metrics.auc(fpr, tpr)\n",
        "\n",
        "    plt.title('Receiver Operating Characteristic')\n",
        "    plt.plot(fpr, tpr, 'b', label = 'AUC = %0.2f' % roc_auc)\n",
        "    plt.legend(loc = 'lower right')\n",
        "    plt.plot([0, 1], [0, 1],'r--')\n",
        "    plt.xlim([0, 1])\n",
        "    plt.ylim([0, 1])\n",
        "    plt.ylabel('True Positive Rate')\n",
        "    plt.xlabel('False Positive Rate')\n",
        "    plt.show()"
      ],
      "metadata": {
        "id": "WPwSvqGv9a3a"
      },
      "execution_count": 97,
      "outputs": []
    },
    {
      "cell_type": "code",
      "source": [
        "plot_roc_curve(pred_prob_test, y_test)"
      ],
      "metadata": {
        "colab": {
          "base_uri": "https://localhost:8080/",
          "height": 480
        },
        "id": "2stzfLze9d1X",
        "outputId": "e5e99b4e-0baf-49c0-c38b-c42cae9e8963"
      },
      "execution_count": 98,
      "outputs": [
        {
          "output_type": "display_data",
          "data": {
            "text/plain": [
              "<Figure size 640x480 with 1 Axes>"
            ],
            "image/png": "[encoded data removed]"
          },
          "metadata": {}
        }
      ]
    },
    {
      "cell_type": "markdown",
      "source": [
        "Мы получили ROC-AUC на тесте 0.67.  "
      ],
      "metadata": {
        "id": "G22W1qfB9iId"
      }
    },
    {
      "cell_type": "markdown",
      "source": [
        "Метрики небольшие из-за проблем с данными, но для сравнения можем показать что случайный классификатор будет давать 50% accuracy:"
      ],
      "metadata": {
        "id": "1fPx6mGR9EhQ"
      }
    },
    {
      "cell_type": "code",
      "source": [
        "n_exp = 100\n",
        "rand_acc = 0\n",
        "for i in range(n_exp):\n",
        "    random_pred = np.random.randint(2, size=len(y_test))\n",
        "    rand_acc += (random_pred == y_test).mean()\n",
        "rand_acc /= n_exp\n",
        "print(f'Random classifier test accuracy:  {rand_acc:.3f}')"
      ],
      "metadata": {
        "colab": {
          "base_uri": "https://localhost:8080/"
        },
        "id": "5CU0mtp88qth",
        "outputId": "194c54c2-db69-4993-a439-28b6cb31fd37"
      },
      "execution_count": 95,
      "outputs": [
        {
          "output_type": "stream",
          "name": "stdout",
          "text": [
            "Random classifier test accuracy:  0.501\n"
          ]
        }
      ]
    }
  ]
}